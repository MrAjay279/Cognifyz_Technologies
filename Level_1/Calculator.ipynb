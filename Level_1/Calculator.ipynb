{
 "cells": [
  {
   "cell_type": "code",
   "execution_count": null,
   "metadata": {},
   "outputs": [],
   "source": [
    "def add(x, y):\n",
    "    return x + y\n",
    "\n",
    "def subtract(x, y):\n",
    "    return x - y\n",
    "\n",
    "def multiply(x, y):\n",
    "    return x * y\n",
    "\n",
    "def divide(x, y):\n",
    "    if y == 0:\n",
    "        return \"Cannot divide by zero\"\n",
    "    else:\n",
    "        return x / y\n",
    "\n",
    "def modulus(x, y):\n",
    "    if y == 0:\n",
    "        return \"Cannot divide by zero\"\n",
    "    else:\n",
    "        return x % y"
   ]
  },
  {
   "cell_type": "code",
   "execution_count": null,
   "metadata": {},
   "outputs": [],
   "source": [
    "def calculator():\n",
    "    print(\"Welcome to Calculator Program\")\n",
    "    print(\"Choose operation:\")\n",
    "    print(\"1. Addition (+)\")\n",
    "    print(\"2. Subtraction (-)\")\n",
    "    print(\"3. Multiplication (*)\")\n",
    "    print(\"4. Division (/)\")\n",
    "    print(\"5. Modulus (%)\")\n",
    "    \n",
    "    # Prompt user for choice\n",
    "    choice = input(\"Enter choice (1/2/3/4/5): \")\n",
    "    \n",
    "    # Prompt user for numbers\n",
    "    num1 = float(input(\"Enter first number: \"))\n",
    "    num2 = float(input(\"Enter second number: \"))\n",
    "    \n",
    "    # Perform operation based on choice\n",
    "    if choice == '1':\n",
    "        print(\"Result:\", add(num1, num2))\n",
    "    elif choice == '2':\n",
    "        print(\"Result:\", subtract(num1, num2))\n",
    "    elif choice == '3':\n",
    "        print(\"Result:\", multiply(num1, num2))\n",
    "    elif choice == '4':\n",
    "        print(\"Result:\", divide(num1, num2))\n",
    "    elif choice == '5':\n",
    "        print(\"Result:\", modulus(num1, num2))\n",
    "    else:\n",
    "        print(\"Invalid choice\")\n",
    "\n",
    "# Call the calculator function\n",
    "calculator()\n"
   ]
  }
 ],
 "metadata": {
  "language_info": {
   "name": "python"
  }
 },
 "nbformat": 4,
 "nbformat_minor": 2
}
