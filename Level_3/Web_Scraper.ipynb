{
 "cells": [
  {
   "cell_type": "code",
   "execution_count": null,
   "metadata": {},
   "outputs": [],
   "source": [
    "import requests\n",
    "from bs4 import BeautifulSoup"
   ]
  },
  {
   "cell_type": "code",
   "execution_count": null,
   "metadata": {},
   "outputs": [],
   "source": [
    "def scrape_blog(url):\n",
    "    # Send a GET request to the URL\n",
    "    response = requests.get(url)\n",
    "    \n",
    "    # Check if the request was successful\n",
    "    if response.status_code == 200:\n",
    "        # Parse the HTML content of the page\n",
    "        soup = BeautifulSoup(response.content, 'html.parser')\n",
    "        \n",
    "        # Find all the article elements\n",
    "        articles = soup.find_all('article')\n",
    "        \n",
    "        # Loop through each article and extract the title and link\n",
    "        for article in articles:\n",
    "            # Extract the title\n",
    "            title_element = article.find('h2')\n",
    "            if title_element:\n",
    "                title = title_element.text.strip()\n",
    "            else:\n",
    "                title = \"No Title Found\"\n",
    "            \n",
    "            # Extract the link\n",
    "            link_element = article.find('a')\n",
    "            if link_element:\n",
    "                link = link_element['href']\n",
    "            else:\n",
    "                link = \"No Link Found\"\n",
    "            \n",
    "            # Print the title and link\n",
    "            print(f\"Title: {title}\")\n",
    "            print(f\"Link: {link}\\n\")\n",
    "    else:\n",
    "        print(\"Failed to fetch the page.\")\n",
    "\n",
    "# Example usage\n",
    "url = 'https://cmrtc.ac.in'\n",
    "scrape_blog(url)\n"
   ]
  },
  {
   "cell_type": "code",
   "execution_count": null,
   "metadata": {},
   "outputs": [],
   "source": []
  }
 ],
 "metadata": {
  "kernelspec": {
   "display_name": "Python 3",
   "language": "python",
   "name": "python3"
  },
  "language_info": {
   "codemirror_mode": {
    "name": "ipython",
    "version": 3
   },
   "file_extension": ".py",
   "mimetype": "text/x-python",
   "name": "python",
   "nbconvert_exporter": "python",
   "pygments_lexer": "ipython3",
   "version": "3.11.5"
  }
 },
 "nbformat": 4,
 "nbformat_minor": 2
}
